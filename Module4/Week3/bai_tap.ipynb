{
 "cells": [
  {
   "cell_type": "code",
   "execution_count": 10,
   "metadata": {},
   "outputs": [],
   "source": [
    "import pandas as pd \n",
    "import numpy as np\n",
    "import matplotlib.pyplot as plt \n",
    "import seaborn as sns"
   ]
  },
  {
   "cell_type": "markdown",
   "metadata": {},
   "source": [
    "### **Bài tập 1**"
   ]
  },
  {
   "cell_type": "code",
   "execution_count": 11,
   "metadata": {},
   "outputs": [
    {
     "name": "stdout",
     "output_type": "stream",
     "text": [
      "[[  1.  230.1  37.8  69.2]\n",
      " [  1.   44.5  39.3  45.1]\n",
      " [  1.   17.2  45.9  69.3]\n",
      " [  1.  151.5  41.3  58.5]\n",
      " [  1.  180.8  10.8  58.4]]\n"
     ]
    }
   ],
   "source": [
    "import random \n",
    "random.seed(0)\n",
    "%matplotlib inline\n",
    "\n",
    "def load_data_from_file(fileName):\n",
    "    data = np.genfromtxt(fileName, dtype=None, delimiter=\",\", skip_header=1)\n",
    "    features_X = data[:,:3]\n",
    "    sales_y = data[:,3]\n",
    "    n = data.shape[0]\n",
    "    features_X = np.hstack((np.ones((n,1)),features_X))\n",
    "    return features_X, sales_y \n",
    "\n",
    "# Question 2 \n",
    "path = '/Users/macbook/Documents/AIO2024/AIO2024-Exercise/Module4/Week3/advertising.csv'\n",
    "features_X, _ = load_data_from_file(path)\n",
    "print(features_X[:5,:])"
   ]
  },
  {
   "cell_type": "code",
   "execution_count": 12,
   "metadata": {},
   "outputs": [
    {
     "name": "stdout",
     "output_type": "stream",
     "text": [
      "(200,)\n"
     ]
    }
   ],
   "source": [
    "_, sales_y = load_data_from_file(path)\n",
    "print(sales_y.shape)"
   ]
  },
  {
   "cell_type": "markdown",
   "metadata": {},
   "source": [
    "### **Bài tập 2**"
   ]
  },
  {
   "cell_type": "code",
   "execution_count": 40,
   "metadata": {},
   "outputs": [],
   "source": [
    "def create_individual(n=4, bound=10):\n",
    "    individual = [random.uniform(-bound/2,bound/2) for _ in range(n)]\n",
    "    return individual"
   ]
  },
  {
   "cell_type": "code",
   "execution_count": 14,
   "metadata": {},
   "outputs": [
    {
     "name": "stdout",
     "output_type": "stream",
     "text": [
      "[3.4442185152504816, 2.5795440294030243, -0.79428419169155, -2.4108324970703663]\n"
     ]
    }
   ],
   "source": [
    "individual = create_individual()\n",
    "print(individual)"
   ]
  },
  {
   "cell_type": "markdown",
   "metadata": {},
   "source": [
    "### **Bài tập 3**"
   ]
  },
  {
   "cell_type": "code",
   "execution_count": 15,
   "metadata": {},
   "outputs": [],
   "source": [
    "features_X, sales_y = load_data_from_file(path)\n",
    "\n",
    "def compute_loss(individual):\n",
    "    theta = np.array(individual)\n",
    "    y_hat = features_X.dot(theta) \n",
    "    loss = np.multiply((y_hat-sales_y), (y_hat-sales_y)).mean()\n",
    "    return loss \n",
    "\n",
    "def compute_fitness(individual):\n",
    "    loss = compute_loss(individual)\n",
    "    fitness_value = 1 / (loss + 1)\n",
    "    return fitness_value"
   ]
  },
  {
   "cell_type": "code",
   "execution_count": 16,
   "metadata": {},
   "outputs": [
    {
     "data": {
      "text/plain": [
       "1.0185991537088997e-06"
      ]
     },
     "execution_count": 16,
     "metadata": {},
     "output_type": "execute_result"
    }
   ],
   "source": [
    "individual = [4.09, 4.82, 3.1, 4.02]\n",
    "fitness_score = compute_fitness(individual)\n",
    "fitness_score"
   ]
  },
  {
   "cell_type": "markdown",
   "metadata": {},
   "source": [
    "### **Bài tập 4**"
   ]
  },
  {
   "cell_type": "code",
   "execution_count": 17,
   "metadata": {},
   "outputs": [],
   "source": [
    "def crossover(individual1, individual2, rate = 0.9):\n",
    "    individual1_new = individual1.copy()\n",
    "    individual2_new = individual2.copy()\n",
    "\n",
    "    for i in range(len(individual1_new)):\n",
    "        if random.random() > 0.9:\n",
    "            individual1_new[i] = individual2[i]\n",
    "            individual2_new[i] = individual1[i] \n",
    "    return individual1_new, individual2_new"
   ]
  },
  {
   "cell_type": "code",
   "execution_count": 19,
   "metadata": {},
   "outputs": [
    {
     "name": "stdout",
     "output_type": "stream",
     "text": [
      "individual1:  [4.09, 4.82, 3.1, 4.02]\n",
      "individual2:  [3.44, 2.57, -0.79, -2.41]\n"
     ]
    }
   ],
   "source": [
    "# Question 5 \n",
    "individual1 = [4.09, 4.82, 3.10, 4.02]\n",
    "individual2 = [3.44, 2.57, -0.79, -2.41]\n",
    "\n",
    "individual1, individual2 = crossover(individual1, individual2,2.0)\n",
    "print(\"individual1: \", individual1)\n",
    "print(\"individual2: \", individual2)"
   ]
  },
  {
   "cell_type": "markdown",
   "metadata": {},
   "source": [
    "### **Bài tập 5**"
   ]
  },
  {
   "cell_type": "code",
   "execution_count": 37,
   "metadata": {},
   "outputs": [],
   "source": [
    "def mutate(individual, rate = 0.05):\n",
    "    individual_m = individual.copy()\n",
    "    for i in range(len(individual_m)):\n",
    "        r = random.random()\n",
    "        if r > rate:\n",
    "            individual_m[1] = r \n",
    "    return individual_m"
   ]
  },
  {
   "cell_type": "code",
   "execution_count": 39,
   "metadata": {},
   "outputs": [
    {
     "name": "stdout",
     "output_type": "stream",
     "text": [
      "True\n"
     ]
    }
   ],
   "source": [
    "# Question 6\n",
    "before_individual = [4.09, 4.82, 3.10, 4.02]\n",
    "after_individual = mutate(individual, 2.0)\n",
    "print(before_individual==after_individual)"
   ]
  },
  {
   "cell_type": "markdown",
   "metadata": {},
   "source": [
    "### **Bài tập 6**"
   ]
  },
  {
   "cell_type": "code",
   "execution_count": 41,
   "metadata": {},
   "outputs": [],
   "source": [
    "def initializePopulation(m):\n",
    "    population = [create_individual() for _ in range(m)]\n",
    "    return population"
   ]
  },
  {
   "cell_type": "markdown",
   "metadata": {},
   "source": [
    "### **Bài tập 7**"
   ]
  },
  {
   "cell_type": "code",
   "execution_count": 42,
   "metadata": {},
   "outputs": [],
   "source": [
    "def selection(sorted_old_population, m=100):\n",
    "    index1 = random.randint(0, m-1)\n",
    "    while True:\n",
    "        index2 = random.randint(0, m-1)\n",
    "        if index1 != index2:\n",
    "            break \n",
    "    individual_s = sorted_old_population[index1]\n",
    "    if sorted_old_population[index2] > sorted_old_population[index1]:\n",
    "        individual_s = sorted_old_population[index2] \n",
    "    return individual_s"
   ]
  },
  {
   "cell_type": "markdown",
   "metadata": {},
   "source": [
    "### **Bài tập 8**"
   ]
  },
  {
   "cell_type": "code",
   "execution_count": null,
   "metadata": {},
   "outputs": [],
   "source": [
    "def create_new_population(old_population, elitism=2, gen=1):\n",
    "    m = len(old_population)\n",
    "    sorted_population = sorted(old_population, key=compute_fitness)\n",
    "\n",
    "    if gen%1 == 0:\n",
    "        print(\"Best loss: \", compute_loss(sorted_population[m-1]), \"with chromsome: \",\n",
    "              sorted_population[m-1])\n",
    "    new_population = []\n",
    "    while len(new_population) < m-elitism:"
   ]
  }
 ],
 "metadata": {
  "kernelspec": {
   "display_name": "aio2024_env",
   "language": "python",
   "name": "python3"
  },
  "language_info": {
   "codemirror_mode": {
    "name": "ipython",
    "version": 3
   },
   "file_extension": ".py",
   "mimetype": "text/x-python",
   "name": "python",
   "nbconvert_exporter": "python",
   "pygments_lexer": "ipython3",
   "version": "3.11.9"
  }
 },
 "nbformat": 4,
 "nbformat_minor": 2
}
